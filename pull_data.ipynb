{
 "cells": [
  {
   "cell_type": "code",
   "execution_count": 1,
   "id": "bf321812-7e21-4948-8df3-516dd6ad4308",
   "metadata": {
    "editable": true,
    "slideshow": {
     "slide_type": ""
    },
    "tags": []
   },
   "outputs": [],
   "source": [
    "import pandas as pd\n",
    "import numpy as np"
   ]
  },
  {
   "cell_type": "code",
   "execution_count": 2,
   "id": "78d38ee1-6caa-461c-aba1-c1e11735ce6d",
   "metadata": {},
   "outputs": [
    {
     "data": {
      "text/html": [
       "<div>\n",
       "<style scoped>\n",
       "    .dataframe tbody tr th:only-of-type {\n",
       "        vertical-align: middle;\n",
       "    }\n",
       "\n",
       "    .dataframe tbody tr th {\n",
       "        vertical-align: top;\n",
       "    }\n",
       "\n",
       "    .dataframe thead th {\n",
       "        text-align: right;\n",
       "    }\n",
       "</style>\n",
       "<table border=\"1\" class=\"dataframe\">\n",
       "  <thead>\n",
       "    <tr style=\"text-align: right;\">\n",
       "      <th></th>\n",
       "      <th>Breed</th>\n",
       "      <th>Color</th>\n",
       "      <th>DogName</th>\n",
       "      <th>OwnerZip</th>\n",
       "    </tr>\n",
       "  </thead>\n",
       "  <tbody>\n",
       "    <tr>\n",
       "      <th>0</th>\n",
       "      <td>COCKAPOO</td>\n",
       "      <td>BROWN</td>\n",
       "      <td>CHARLEY</td>\n",
       "      <td>152361</td>\n",
       "    </tr>\n",
       "    <tr>\n",
       "      <th>1</th>\n",
       "      <td>GER SHEPHERD</td>\n",
       "      <td>BLACK/BROWN</td>\n",
       "      <td>TACODA</td>\n",
       "      <td>152382</td>\n",
       "    </tr>\n",
       "    <tr>\n",
       "      <th>2</th>\n",
       "      <td>BELG MALINOIS</td>\n",
       "      <td>BRINDLEE</td>\n",
       "      <td>ICH</td>\n",
       "      <td>152383</td>\n",
       "    </tr>\n",
       "    <tr>\n",
       "      <th>3</th>\n",
       "      <td>MIXED</td>\n",
       "      <td>BLACK/BROWN</td>\n",
       "      <td>ARROW</td>\n",
       "      <td>151044</td>\n",
       "    </tr>\n",
       "    <tr>\n",
       "      <th>4</th>\n",
       "      <td>AM PIT BULL TERRIER</td>\n",
       "      <td>WHITE/BROWN</td>\n",
       "      <td>OAKLEY</td>\n",
       "      <td>151395</td>\n",
       "    </tr>\n",
       "    <tr>\n",
       "      <th>5</th>\n",
       "      <td>SCOTTISH TERRIER</td>\n",
       "      <td>BLACK</td>\n",
       "      <td>BAILEY</td>\n",
       "      <td>151296</td>\n",
       "    </tr>\n",
       "    <tr>\n",
       "      <th>6</th>\n",
       "      <td>YORKSHIRE TERRIER</td>\n",
       "      <td>BLACK/TAN</td>\n",
       "      <td>MIMI PEARL FOSTER</td>\n",
       "      <td>150907</td>\n",
       "    </tr>\n",
       "    <tr>\n",
       "      <th>7</th>\n",
       "      <td>DACHSHUND MIX</td>\n",
       "      <td>WHITE/BROWN</td>\n",
       "      <td>LEROI</td>\n",
       "      <td>151018</td>\n",
       "    </tr>\n",
       "    <tr>\n",
       "      <th>8</th>\n",
       "      <td>SHETLAND SHEEPDOG</td>\n",
       "      <td>WHITE/BROWN</td>\n",
       "      <td>ZOE VITSAS</td>\n",
       "      <td>152389</td>\n",
       "    </tr>\n",
       "    <tr>\n",
       "      <th>9</th>\n",
       "      <td>LABRADOR RETRIEVER</td>\n",
       "      <td>YELLOW</td>\n",
       "      <td>TAFFY</td>\n",
       "      <td>152281</td>\n",
       "    </tr>\n",
       "    <tr>\n",
       "      <th>10</th>\n",
       "      <td>BICHON FRISE</td>\n",
       "      <td>WHITE</td>\n",
       "      <td>DUDE</td>\n",
       "      <td>152381</td>\n",
       "    </tr>\n",
       "    <tr>\n",
       "      <th>11</th>\n",
       "      <td>LHASA APSO MIX</td>\n",
       "      <td>WHITE/BROWN</td>\n",
       "      <td>CHICKIE</td>\n",
       "      <td>152381</td>\n",
       "    </tr>\n",
       "    <tr>\n",
       "      <th>12</th>\n",
       "      <td>AM PITT BULL MIX</td>\n",
       "      <td>BROWN</td>\n",
       "      <td>KING</td>\n",
       "      <td>152351</td>\n",
       "    </tr>\n",
       "    <tr>\n",
       "      <th>13</th>\n",
       "      <td>AM PITT BULL MIX</td>\n",
       "      <td>WHITE</td>\n",
       "      <td>EMILY</td>\n",
       "      <td>151081</td>\n",
       "    </tr>\n",
       "    <tr>\n",
       "      <th>14</th>\n",
       "      <td>BRITTANY SPANIEL</td>\n",
       "      <td>WHITE/BROWN</td>\n",
       "      <td>ELLIE</td>\n",
       "      <td>152281</td>\n",
       "    </tr>\n",
       "    <tr>\n",
       "      <th>15</th>\n",
       "      <td>MIXED</td>\n",
       "      <td>WHITE</td>\n",
       "      <td>RUSTY</td>\n",
       "      <td>151201</td>\n",
       "    </tr>\n",
       "    <tr>\n",
       "      <th>16</th>\n",
       "      <td>TERRIER MIX</td>\n",
       "      <td>SPOTTED</td>\n",
       "      <td>ANNIE</td>\n",
       "      <td>152391</td>\n",
       "    </tr>\n",
       "    <tr>\n",
       "      <th>17</th>\n",
       "      <td>COCKER SPANIEL</td>\n",
       "      <td>BLONDE</td>\n",
       "      <td>JULIET</td>\n",
       "      <td>152141</td>\n",
       "    </tr>\n",
       "    <tr>\n",
       "      <th>18</th>\n",
       "      <td>COCKER SPANIEL</td>\n",
       "      <td>BLACK</td>\n",
       "      <td>ROMEO</td>\n",
       "      <td>15214</td>\n",
       "    </tr>\n",
       "  </tbody>\n",
       "</table>\n",
       "</div>"
      ],
      "text/plain": [
       "                  Breed        Color            DogName  OwnerZip\n",
       "0              COCKAPOO        BROWN            CHARLEY    152361\n",
       "1          GER SHEPHERD  BLACK/BROWN             TACODA    152382\n",
       "2         BELG MALINOIS     BRINDLEE                ICH    152383\n",
       "3                 MIXED  BLACK/BROWN              ARROW    151044\n",
       "4   AM PIT BULL TERRIER  WHITE/BROWN             OAKLEY    151395\n",
       "5      SCOTTISH TERRIER        BLACK             BAILEY    151296\n",
       "6     YORKSHIRE TERRIER    BLACK/TAN  MIMI PEARL FOSTER    150907\n",
       "7         DACHSHUND MIX  WHITE/BROWN              LEROI    151018\n",
       "8     SHETLAND SHEEPDOG  WHITE/BROWN         ZOE VITSAS    152389\n",
       "9    LABRADOR RETRIEVER       YELLOW              TAFFY    152281\n",
       "10         BICHON FRISE        WHITE               DUDE    152381\n",
       "11       LHASA APSO MIX  WHITE/BROWN            CHICKIE    152381\n",
       "12     AM PITT BULL MIX        BROWN               KING    152351\n",
       "13     AM PITT BULL MIX        WHITE              EMILY    151081\n",
       "14     BRITTANY SPANIEL  WHITE/BROWN              ELLIE    152281\n",
       "15                MIXED        WHITE              RUSTY    151201\n",
       "16          TERRIER MIX      SPOTTED              ANNIE    152391\n",
       "17       COCKER SPANIEL       BLONDE             JULIET    152141\n",
       "18       COCKER SPANIEL        BLACK              ROMEO     15214"
      ]
     },
     "execution_count": 2,
     "metadata": {},
     "output_type": "execute_result"
    }
   ],
   "source": [
    "my_df = pd.read_csv(\"dog_data.csv\")\n",
    "my_df"
   ]
  },
  {
   "cell_type": "code",
   "execution_count": 3,
   "id": "01a094c3-f068-4925-88bd-c49e3491d387",
   "metadata": {},
   "outputs": [],
   "source": [
    "# Grab First 5 rows"
   ]
  },
  {
   "cell_type": "code",
   "execution_count": 4,
   "id": "663a60c5-23a4-4838-9ea5-100a52a35af1",
   "metadata": {},
   "outputs": [
    {
     "data": {
      "text/html": [
       "<div>\n",
       "<style scoped>\n",
       "    .dataframe tbody tr th:only-of-type {\n",
       "        vertical-align: middle;\n",
       "    }\n",
       "\n",
       "    .dataframe tbody tr th {\n",
       "        vertical-align: top;\n",
       "    }\n",
       "\n",
       "    .dataframe thead th {\n",
       "        text-align: right;\n",
       "    }\n",
       "</style>\n",
       "<table border=\"1\" class=\"dataframe\">\n",
       "  <thead>\n",
       "    <tr style=\"text-align: right;\">\n",
       "      <th></th>\n",
       "      <th>Breed</th>\n",
       "      <th>Color</th>\n",
       "      <th>DogName</th>\n",
       "      <th>OwnerZip</th>\n",
       "    </tr>\n",
       "  </thead>\n",
       "  <tbody>\n",
       "    <tr>\n",
       "      <th>0</th>\n",
       "      <td>COCKAPOO</td>\n",
       "      <td>BROWN</td>\n",
       "      <td>CHARLEY</td>\n",
       "      <td>152361</td>\n",
       "    </tr>\n",
       "    <tr>\n",
       "      <th>1</th>\n",
       "      <td>GER SHEPHERD</td>\n",
       "      <td>BLACK/BROWN</td>\n",
       "      <td>TACODA</td>\n",
       "      <td>152382</td>\n",
       "    </tr>\n",
       "    <tr>\n",
       "      <th>2</th>\n",
       "      <td>BELG MALINOIS</td>\n",
       "      <td>BRINDLEE</td>\n",
       "      <td>ICH</td>\n",
       "      <td>152383</td>\n",
       "    </tr>\n",
       "    <tr>\n",
       "      <th>3</th>\n",
       "      <td>MIXED</td>\n",
       "      <td>BLACK/BROWN</td>\n",
       "      <td>ARROW</td>\n",
       "      <td>151044</td>\n",
       "    </tr>\n",
       "    <tr>\n",
       "      <th>4</th>\n",
       "      <td>AM PIT BULL TERRIER</td>\n",
       "      <td>WHITE/BROWN</td>\n",
       "      <td>OAKLEY</td>\n",
       "      <td>151395</td>\n",
       "    </tr>\n",
       "  </tbody>\n",
       "</table>\n",
       "</div>"
      ],
      "text/plain": [
       "                 Breed        Color  DogName  OwnerZip\n",
       "0             COCKAPOO        BROWN  CHARLEY    152361\n",
       "1         GER SHEPHERD  BLACK/BROWN   TACODA    152382\n",
       "2        BELG MALINOIS     BRINDLEE      ICH    152383\n",
       "3                MIXED  BLACK/BROWN    ARROW    151044\n",
       "4  AM PIT BULL TERRIER  WHITE/BROWN   OAKLEY    151395"
      ]
     },
     "execution_count": 4,
     "metadata": {},
     "output_type": "execute_result"
    }
   ],
   "source": [
    "my_df.head()"
   ]
  },
  {
   "cell_type": "code",
   "execution_count": 5,
   "id": "09e010cf-e48c-42c2-ab27-6a5ceaf450e0",
   "metadata": {},
   "outputs": [],
   "source": [
    "# Grab certain number of first rows"
   ]
  },
  {
   "cell_type": "code",
   "execution_count": 6,
   "id": "b9d56c6b-10f1-4a5f-b5d4-a404bf19ccf5",
   "metadata": {},
   "outputs": [
    {
     "data": {
      "text/html": [
       "<div>\n",
       "<style scoped>\n",
       "    .dataframe tbody tr th:only-of-type {\n",
       "        vertical-align: middle;\n",
       "    }\n",
       "\n",
       "    .dataframe tbody tr th {\n",
       "        vertical-align: top;\n",
       "    }\n",
       "\n",
       "    .dataframe thead th {\n",
       "        text-align: right;\n",
       "    }\n",
       "</style>\n",
       "<table border=\"1\" class=\"dataframe\">\n",
       "  <thead>\n",
       "    <tr style=\"text-align: right;\">\n",
       "      <th></th>\n",
       "      <th>Breed</th>\n",
       "      <th>Color</th>\n",
       "      <th>DogName</th>\n",
       "      <th>OwnerZip</th>\n",
       "    </tr>\n",
       "  </thead>\n",
       "  <tbody>\n",
       "    <tr>\n",
       "      <th>0</th>\n",
       "      <td>COCKAPOO</td>\n",
       "      <td>BROWN</td>\n",
       "      <td>CHARLEY</td>\n",
       "      <td>152361</td>\n",
       "    </tr>\n",
       "    <tr>\n",
       "      <th>1</th>\n",
       "      <td>GER SHEPHERD</td>\n",
       "      <td>BLACK/BROWN</td>\n",
       "      <td>TACODA</td>\n",
       "      <td>152382</td>\n",
       "    </tr>\n",
       "    <tr>\n",
       "      <th>2</th>\n",
       "      <td>BELG MALINOIS</td>\n",
       "      <td>BRINDLEE</td>\n",
       "      <td>ICH</td>\n",
       "      <td>152383</td>\n",
       "    </tr>\n",
       "    <tr>\n",
       "      <th>3</th>\n",
       "      <td>MIXED</td>\n",
       "      <td>BLACK/BROWN</td>\n",
       "      <td>ARROW</td>\n",
       "      <td>151044</td>\n",
       "    </tr>\n",
       "    <tr>\n",
       "      <th>4</th>\n",
       "      <td>AM PIT BULL TERRIER</td>\n",
       "      <td>WHITE/BROWN</td>\n",
       "      <td>OAKLEY</td>\n",
       "      <td>151395</td>\n",
       "    </tr>\n",
       "    <tr>\n",
       "      <th>5</th>\n",
       "      <td>SCOTTISH TERRIER</td>\n",
       "      <td>BLACK</td>\n",
       "      <td>BAILEY</td>\n",
       "      <td>151296</td>\n",
       "    </tr>\n",
       "    <tr>\n",
       "      <th>6</th>\n",
       "      <td>YORKSHIRE TERRIER</td>\n",
       "      <td>BLACK/TAN</td>\n",
       "      <td>MIMI PEARL FOSTER</td>\n",
       "      <td>150907</td>\n",
       "    </tr>\n",
       "    <tr>\n",
       "      <th>7</th>\n",
       "      <td>DACHSHUND MIX</td>\n",
       "      <td>WHITE/BROWN</td>\n",
       "      <td>LEROI</td>\n",
       "      <td>151018</td>\n",
       "    </tr>\n",
       "    <tr>\n",
       "      <th>8</th>\n",
       "      <td>SHETLAND SHEEPDOG</td>\n",
       "      <td>WHITE/BROWN</td>\n",
       "      <td>ZOE VITSAS</td>\n",
       "      <td>152389</td>\n",
       "    </tr>\n",
       "  </tbody>\n",
       "</table>\n",
       "</div>"
      ],
      "text/plain": [
       "                 Breed        Color            DogName  OwnerZip\n",
       "0             COCKAPOO        BROWN            CHARLEY    152361\n",
       "1         GER SHEPHERD  BLACK/BROWN             TACODA    152382\n",
       "2        BELG MALINOIS     BRINDLEE                ICH    152383\n",
       "3                MIXED  BLACK/BROWN              ARROW    151044\n",
       "4  AM PIT BULL TERRIER  WHITE/BROWN             OAKLEY    151395\n",
       "5     SCOTTISH TERRIER        BLACK             BAILEY    151296\n",
       "6    YORKSHIRE TERRIER    BLACK/TAN  MIMI PEARL FOSTER    150907\n",
       "7        DACHSHUND MIX  WHITE/BROWN              LEROI    151018\n",
       "8    SHETLAND SHEEPDOG  WHITE/BROWN         ZOE VITSAS    152389"
      ]
     },
     "execution_count": 6,
     "metadata": {},
     "output_type": "execute_result"
    }
   ],
   "source": [
    "my_df.head(9)"
   ]
  },
  {
   "cell_type": "code",
   "execution_count": 7,
   "id": "33f29bb4-31e5-42b1-9544-1e6458c513d6",
   "metadata": {},
   "outputs": [],
   "source": [
    "# Grab last 5 rows"
   ]
  },
  {
   "cell_type": "code",
   "execution_count": 9,
   "id": "5dfea34f-29b6-47e4-87f1-2d681874ff34",
   "metadata": {},
   "outputs": [
    {
     "data": {
      "text/html": [
       "<div>\n",
       "<style scoped>\n",
       "    .dataframe tbody tr th:only-of-type {\n",
       "        vertical-align: middle;\n",
       "    }\n",
       "\n",
       "    .dataframe tbody tr th {\n",
       "        vertical-align: top;\n",
       "    }\n",
       "\n",
       "    .dataframe thead th {\n",
       "        text-align: right;\n",
       "    }\n",
       "</style>\n",
       "<table border=\"1\" class=\"dataframe\">\n",
       "  <thead>\n",
       "    <tr style=\"text-align: right;\">\n",
       "      <th></th>\n",
       "      <th>Breed</th>\n",
       "      <th>Color</th>\n",
       "      <th>DogName</th>\n",
       "      <th>OwnerZip</th>\n",
       "    </tr>\n",
       "  </thead>\n",
       "  <tbody>\n",
       "    <tr>\n",
       "      <th>14</th>\n",
       "      <td>BRITTANY SPANIEL</td>\n",
       "      <td>WHITE/BROWN</td>\n",
       "      <td>ELLIE</td>\n",
       "      <td>152281</td>\n",
       "    </tr>\n",
       "    <tr>\n",
       "      <th>15</th>\n",
       "      <td>MIXED</td>\n",
       "      <td>WHITE</td>\n",
       "      <td>RUSTY</td>\n",
       "      <td>151201</td>\n",
       "    </tr>\n",
       "    <tr>\n",
       "      <th>16</th>\n",
       "      <td>TERRIER MIX</td>\n",
       "      <td>SPOTTED</td>\n",
       "      <td>ANNIE</td>\n",
       "      <td>152391</td>\n",
       "    </tr>\n",
       "    <tr>\n",
       "      <th>17</th>\n",
       "      <td>COCKER SPANIEL</td>\n",
       "      <td>BLONDE</td>\n",
       "      <td>JULIET</td>\n",
       "      <td>152141</td>\n",
       "    </tr>\n",
       "    <tr>\n",
       "      <th>18</th>\n",
       "      <td>COCKER SPANIEL</td>\n",
       "      <td>BLACK</td>\n",
       "      <td>ROMEO</td>\n",
       "      <td>15214</td>\n",
       "    </tr>\n",
       "  </tbody>\n",
       "</table>\n",
       "</div>"
      ],
      "text/plain": [
       "               Breed        Color DogName  OwnerZip\n",
       "14  BRITTANY SPANIEL  WHITE/BROWN   ELLIE    152281\n",
       "15             MIXED        WHITE   RUSTY    151201\n",
       "16       TERRIER MIX      SPOTTED   ANNIE    152391\n",
       "17    COCKER SPANIEL       BLONDE  JULIET    152141\n",
       "18    COCKER SPANIEL        BLACK   ROMEO     15214"
      ]
     },
     "execution_count": 9,
     "metadata": {},
     "output_type": "execute_result"
    }
   ],
   "source": [
    "my_df.tail()"
   ]
  },
  {
   "cell_type": "code",
   "execution_count": 10,
   "id": "a9ffecbe-571a-422e-9c06-7a002536cef3",
   "metadata": {},
   "outputs": [],
   "source": [
    "# Grab Certain number of last rows"
   ]
  },
  {
   "cell_type": "code",
   "execution_count": 11,
   "id": "289d71c9-d00e-4943-adda-73e15394320b",
   "metadata": {},
   "outputs": [
    {
     "data": {
      "text/html": [
       "<div>\n",
       "<style scoped>\n",
       "    .dataframe tbody tr th:only-of-type {\n",
       "        vertical-align: middle;\n",
       "    }\n",
       "\n",
       "    .dataframe tbody tr th {\n",
       "        vertical-align: top;\n",
       "    }\n",
       "\n",
       "    .dataframe thead th {\n",
       "        text-align: right;\n",
       "    }\n",
       "</style>\n",
       "<table border=\"1\" class=\"dataframe\">\n",
       "  <thead>\n",
       "    <tr style=\"text-align: right;\">\n",
       "      <th></th>\n",
       "      <th>Breed</th>\n",
       "      <th>Color</th>\n",
       "      <th>DogName</th>\n",
       "      <th>OwnerZip</th>\n",
       "    </tr>\n",
       "  </thead>\n",
       "  <tbody>\n",
       "    <tr>\n",
       "      <th>11</th>\n",
       "      <td>LHASA APSO MIX</td>\n",
       "      <td>WHITE/BROWN</td>\n",
       "      <td>CHICKIE</td>\n",
       "      <td>152381</td>\n",
       "    </tr>\n",
       "    <tr>\n",
       "      <th>12</th>\n",
       "      <td>AM PITT BULL MIX</td>\n",
       "      <td>BROWN</td>\n",
       "      <td>KING</td>\n",
       "      <td>152351</td>\n",
       "    </tr>\n",
       "    <tr>\n",
       "      <th>13</th>\n",
       "      <td>AM PITT BULL MIX</td>\n",
       "      <td>WHITE</td>\n",
       "      <td>EMILY</td>\n",
       "      <td>151081</td>\n",
       "    </tr>\n",
       "    <tr>\n",
       "      <th>14</th>\n",
       "      <td>BRITTANY SPANIEL</td>\n",
       "      <td>WHITE/BROWN</td>\n",
       "      <td>ELLIE</td>\n",
       "      <td>152281</td>\n",
       "    </tr>\n",
       "    <tr>\n",
       "      <th>15</th>\n",
       "      <td>MIXED</td>\n",
       "      <td>WHITE</td>\n",
       "      <td>RUSTY</td>\n",
       "      <td>151201</td>\n",
       "    </tr>\n",
       "    <tr>\n",
       "      <th>16</th>\n",
       "      <td>TERRIER MIX</td>\n",
       "      <td>SPOTTED</td>\n",
       "      <td>ANNIE</td>\n",
       "      <td>152391</td>\n",
       "    </tr>\n",
       "    <tr>\n",
       "      <th>17</th>\n",
       "      <td>COCKER SPANIEL</td>\n",
       "      <td>BLONDE</td>\n",
       "      <td>JULIET</td>\n",
       "      <td>152141</td>\n",
       "    </tr>\n",
       "    <tr>\n",
       "      <th>18</th>\n",
       "      <td>COCKER SPANIEL</td>\n",
       "      <td>BLACK</td>\n",
       "      <td>ROMEO</td>\n",
       "      <td>15214</td>\n",
       "    </tr>\n",
       "  </tbody>\n",
       "</table>\n",
       "</div>"
      ],
      "text/plain": [
       "               Breed        Color  DogName  OwnerZip\n",
       "11    LHASA APSO MIX  WHITE/BROWN  CHICKIE    152381\n",
       "12  AM PITT BULL MIX        BROWN     KING    152351\n",
       "13  AM PITT BULL MIX        WHITE    EMILY    151081\n",
       "14  BRITTANY SPANIEL  WHITE/BROWN    ELLIE    152281\n",
       "15             MIXED        WHITE    RUSTY    151201\n",
       "16       TERRIER MIX      SPOTTED    ANNIE    152391\n",
       "17    COCKER SPANIEL       BLONDE   JULIET    152141\n",
       "18    COCKER SPANIEL        BLACK    ROMEO     15214"
      ]
     },
     "execution_count": 11,
     "metadata": {},
     "output_type": "execute_result"
    }
   ],
   "source": [
    "my_df.tail(8)"
   ]
  },
  {
   "cell_type": "code",
   "execution_count": 12,
   "id": "03d57b36-d2d8-44b5-a15c-4753e35fed40",
   "metadata": {},
   "outputs": [],
   "source": [
    "# Get info about the dataframe"
   ]
  },
  {
   "cell_type": "code",
   "execution_count": 13,
   "id": "1eeb52b4-0ef3-47cf-b05e-2a5725c9ec2b",
   "metadata": {},
   "outputs": [
    {
     "name": "stdout",
     "output_type": "stream",
     "text": [
      "<class 'pandas.core.frame.DataFrame'>\n",
      "RangeIndex: 19 entries, 0 to 18\n",
      "Data columns (total 4 columns):\n",
      " #   Column    Non-Null Count  Dtype \n",
      "---  ------    --------------  ----- \n",
      " 0   Breed     19 non-null     object\n",
      " 1   Color     19 non-null     object\n",
      " 2   DogName   19 non-null     object\n",
      " 3   OwnerZip  19 non-null     int64 \n",
      "dtypes: int64(1), object(3)\n",
      "memory usage: 740.0+ bytes\n"
     ]
    }
   ],
   "source": [
    "my_df.info()"
   ]
  },
  {
   "cell_type": "code",
   "execution_count": 14,
   "id": "c2fff603-b49d-4d7f-a6a5-69cd3603df5b",
   "metadata": {},
   "outputs": [],
   "source": [
    "# Get shape of rows and columns"
   ]
  },
  {
   "cell_type": "code",
   "execution_count": 15,
   "id": "1ff571da-4451-48f3-93af-42488dcf4644",
   "metadata": {},
   "outputs": [
    {
     "data": {
      "text/plain": [
       "(19, 4)"
      ]
     },
     "execution_count": 15,
     "metadata": {},
     "output_type": "execute_result"
    }
   ],
   "source": [
    "my_df.shape"
   ]
  },
  {
   "cell_type": "code",
   "execution_count": 16,
   "id": "8bdc72da-7a3a-4317-93b0-847011d9c291",
   "metadata": {},
   "outputs": [],
   "source": [
    "# Get number of dimentions"
   ]
  },
  {
   "cell_type": "code",
   "execution_count": 17,
   "id": "3c407958-cb7a-4cd7-aebb-057a9b0b6711",
   "metadata": {},
   "outputs": [
    {
     "data": {
      "text/plain": [
       "2"
      ]
     },
     "execution_count": 17,
     "metadata": {},
     "output_type": "execute_result"
    }
   ],
   "source": [
    "my_df.ndim"
   ]
  },
  {
   "cell_type": "code",
   "execution_count": 18,
   "id": "91f7905e-52b2-414c-903b-92061b4a1a78",
   "metadata": {},
   "outputs": [],
   "source": [
    "# Get the column datatype"
   ]
  },
  {
   "cell_type": "code",
   "execution_count": 19,
   "id": "9971e73e-2779-4380-a77b-b2a2868cb352",
   "metadata": {},
   "outputs": [
    {
     "data": {
      "text/plain": [
       "Breed       object\n",
       "Color       object\n",
       "DogName     object\n",
       "OwnerZip     int64\n",
       "dtype: object"
      ]
     },
     "execution_count": 19,
     "metadata": {},
     "output_type": "execute_result"
    }
   ],
   "source": [
    "my_df.dtypes"
   ]
  },
  {
   "cell_type": "code",
   "execution_count": 20,
   "id": "66962b93-e9c5-4327-be5f-bc382d868a42",
   "metadata": {},
   "outputs": [],
   "source": [
    "# Get some statistics about the data"
   ]
  },
  {
   "cell_type": "code",
   "execution_count": 21,
   "id": "9c2f5c5e-146d-41d9-a4ec-3e88bcfdaeff",
   "metadata": {},
   "outputs": [
    {
     "data": {
      "text/html": [
       "<div>\n",
       "<style scoped>\n",
       "    .dataframe tbody tr th:only-of-type {\n",
       "        vertical-align: middle;\n",
       "    }\n",
       "\n",
       "    .dataframe tbody tr th {\n",
       "        vertical-align: top;\n",
       "    }\n",
       "\n",
       "    .dataframe thead th {\n",
       "        text-align: right;\n",
       "    }\n",
       "</style>\n",
       "<table border=\"1\" class=\"dataframe\">\n",
       "  <thead>\n",
       "    <tr style=\"text-align: right;\">\n",
       "      <th></th>\n",
       "      <th>OwnerZip</th>\n",
       "    </tr>\n",
       "  </thead>\n",
       "  <tbody>\n",
       "    <tr>\n",
       "      <th>count</th>\n",
       "      <td>19.000000</td>\n",
       "    </tr>\n",
       "    <tr>\n",
       "      <th>mean</th>\n",
       "      <td>144677.789474</td>\n",
       "    </tr>\n",
       "    <tr>\n",
       "      <th>std</th>\n",
       "      <td>31356.786610</td>\n",
       "    </tr>\n",
       "    <tr>\n",
       "      <th>min</th>\n",
       "      <td>15214.000000</td>\n",
       "    </tr>\n",
       "    <tr>\n",
       "      <th>25%</th>\n",
       "      <td>151141.000000</td>\n",
       "    </tr>\n",
       "    <tr>\n",
       "      <th>50%</th>\n",
       "      <td>152281.000000</td>\n",
       "    </tr>\n",
       "    <tr>\n",
       "      <th>75%</th>\n",
       "      <td>152381.000000</td>\n",
       "    </tr>\n",
       "    <tr>\n",
       "      <th>max</th>\n",
       "      <td>152391.000000</td>\n",
       "    </tr>\n",
       "  </tbody>\n",
       "</table>\n",
       "</div>"
      ],
      "text/plain": [
       "            OwnerZip\n",
       "count      19.000000\n",
       "mean   144677.789474\n",
       "std     31356.786610\n",
       "min     15214.000000\n",
       "25%    151141.000000\n",
       "50%    152281.000000\n",
       "75%    152381.000000\n",
       "max    152391.000000"
      ]
     },
     "execution_count": 21,
     "metadata": {},
     "output_type": "execute_result"
    }
   ],
   "source": [
    "my_df.describe()"
   ]
  },
  {
   "cell_type": "code",
   "execution_count": 22,
   "id": "e3552c2a-3473-4437-a6a5-245c00b7b750",
   "metadata": {},
   "outputs": [],
   "source": [
    "# Describe a spesific column"
   ]
  },
  {
   "cell_type": "code",
   "execution_count": 25,
   "id": "c484e57e-e921-479c-9614-cea5d7cd4643",
   "metadata": {},
   "outputs": [
    {
     "data": {
      "text/plain": [
       "count        19\n",
       "unique       16\n",
       "top       MIXED\n",
       "freq          2\n",
       "Name: Breed, dtype: object"
      ]
     },
     "execution_count": 25,
     "metadata": {},
     "output_type": "execute_result"
    }
   ],
   "source": [
    "my_df['Breed'].describe()"
   ]
  },
  {
   "cell_type": "code",
   "execution_count": 26,
   "id": "77a22bc9-ae5f-4b49-84f5-00a8525127a6",
   "metadata": {},
   "outputs": [],
   "source": [
    "# Describe a spesific column"
   ]
  },
  {
   "cell_type": "code",
   "execution_count": 28,
   "id": "7ed4463b-4a3f-4be7-8062-56a9afcb4166",
   "metadata": {},
   "outputs": [
    {
     "data": {
      "text/plain": [
       "count              19\n",
       "unique             10\n",
       "top       WHITE/BROWN\n",
       "freq                5\n",
       "Name: Color, dtype: object"
      ]
     },
     "execution_count": 28,
     "metadata": {},
     "output_type": "execute_result"
    }
   ],
   "source": [
    "my_df['Color'].describe()"
   ]
  },
  {
   "cell_type": "code",
   "execution_count": 29,
   "id": "323c6604-abd4-428a-ab5d-3933ef968c74",
   "metadata": {},
   "outputs": [],
   "source": [
    "# Select Spesific column using Brackets"
   ]
  },
  {
   "cell_type": "code",
   "execution_count": 30,
   "id": "a212f804-3408-4aed-b433-ff526dc2d91b",
   "metadata": {},
   "outputs": [
    {
     "data": {
      "text/plain": [
       "0               CHARLEY\n",
       "1                TACODA\n",
       "2                   ICH\n",
       "3                 ARROW\n",
       "4                OAKLEY\n",
       "5                BAILEY\n",
       "6     MIMI PEARL FOSTER\n",
       "7                 LEROI\n",
       "8            ZOE VITSAS\n",
       "9                 TAFFY\n",
       "10                 DUDE\n",
       "11              CHICKIE\n",
       "12                 KING\n",
       "13                EMILY\n",
       "14                ELLIE\n",
       "15                RUSTY\n",
       "16                ANNIE\n",
       "17               JULIET\n",
       "18                ROMEO\n",
       "Name: DogName, dtype: object"
      ]
     },
     "execution_count": 30,
     "metadata": {},
     "output_type": "execute_result"
    }
   ],
   "source": [
    "my_df['DogName']"
   ]
  },
  {
   "cell_type": "code",
   "execution_count": 31,
   "id": "ab9a383d-3365-4fd8-99f0-94256aaadbc8",
   "metadata": {},
   "outputs": [],
   "source": [
    "# Select Spesific column using Dot Notation"
   ]
  },
  {
   "cell_type": "code",
   "execution_count": 32,
   "id": "23070dc8-7442-4282-972b-9f223ba31a4f",
   "metadata": {},
   "outputs": [
    {
     "data": {
      "text/plain": [
       "0               CHARLEY\n",
       "1                TACODA\n",
       "2                   ICH\n",
       "3                 ARROW\n",
       "4                OAKLEY\n",
       "5                BAILEY\n",
       "6     MIMI PEARL FOSTER\n",
       "7                 LEROI\n",
       "8            ZOE VITSAS\n",
       "9                 TAFFY\n",
       "10                 DUDE\n",
       "11              CHICKIE\n",
       "12                 KING\n",
       "13                EMILY\n",
       "14                ELLIE\n",
       "15                RUSTY\n",
       "16                ANNIE\n",
       "17               JULIET\n",
       "18                ROMEO\n",
       "Name: DogName, dtype: object"
      ]
     },
     "execution_count": 32,
     "metadata": {},
     "output_type": "execute_result"
    }
   ],
   "source": [
    "my_df.DogName"
   ]
  },
  {
   "cell_type": "code",
   "execution_count": 33,
   "id": "a35a6adb-d1c9-4448-8e82-a6e330f1bdf0",
   "metadata": {},
   "outputs": [],
   "source": [
    "# Select Spesific column using location"
   ]
  },
  {
   "cell_type": "code",
   "execution_count": 35,
   "id": "eed4e2b9-ce6a-4ead-b07b-51ee8a71bd09",
   "metadata": {},
   "outputs": [
    {
     "data": {
      "text/plain": [
       "0           BROWN\n",
       "1     BLACK/BROWN\n",
       "2        BRINDLEE\n",
       "3     BLACK/BROWN\n",
       "4     WHITE/BROWN\n",
       "5           BLACK\n",
       "6       BLACK/TAN\n",
       "7     WHITE/BROWN\n",
       "8     WHITE/BROWN\n",
       "9          YELLOW\n",
       "10          WHITE\n",
       "11    WHITE/BROWN\n",
       "12          BROWN\n",
       "13          WHITE\n",
       "14    WHITE/BROWN\n",
       "15          WHITE\n",
       "16        SPOTTED\n",
       "17         BLONDE\n",
       "18          BLACK\n",
       "Name: Color, dtype: object"
      ]
     },
     "execution_count": 35,
     "metadata": {},
     "output_type": "execute_result"
    }
   ],
   "source": [
    "my_df.iloc[:,1]"
   ]
  },
  {
   "cell_type": "code",
   "execution_count": null,
   "id": "a3e3c93e-2b8f-461c-ab0c-416577e3f8d2",
   "metadata": {},
   "outputs": [],
   "source": []
  },
  {
   "cell_type": "code",
   "execution_count": null,
   "id": "c7063f4b-1fe3-44e0-9429-96e56ec00a10",
   "metadata": {},
   "outputs": [],
   "source": []
  }
 ],
 "metadata": {
  "kernelspec": {
   "display_name": "Python 3 (ipykernel)",
   "language": "python",
   "name": "python3"
  },
  "language_info": {
   "codemirror_mode": {
    "name": "ipython",
    "version": 3
   },
   "file_extension": ".py",
   "mimetype": "text/x-python",
   "name": "python",
   "nbconvert_exporter": "python",
   "pygments_lexer": "ipython3",
   "version": "3.12.7"
  }
 },
 "nbformat": 4,
 "nbformat_minor": 5
}
