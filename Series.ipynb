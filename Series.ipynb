{
 "cells": [
  {
   "cell_type": "code",
   "execution_count": 1,
   "id": "7e924169-c5cb-4e51-8554-8de44d186678",
   "metadata": {},
   "outputs": [],
   "source": [
    "import pandas as pd\n",
    "import numpy as np"
   ]
  },
  {
   "cell_type": "code",
   "execution_count": 2,
   "id": "143a9fb5-e74d-4197-9287-7853b54d2a57",
   "metadata": {},
   "outputs": [],
   "source": [
    "# Pandas Series - List a table column - 1 Dimensional array holding any type of data"
   ]
  },
  {
   "cell_type": "code",
   "execution_count": 3,
   "id": "3a03e69c-3c20-4881-82c7-9f68c4c8d6ff",
   "metadata": {},
   "outputs": [
    {
     "data": {
      "text/plain": [
       "0     5\n",
       "1     9\n",
       "2    12\n",
       "3    27\n",
       "dtype: int64"
      ]
     },
     "execution_count": 3,
     "metadata": {},
     "output_type": "execute_result"
    }
   ],
   "source": [
    "my_series = [5,9,12,27]\n",
    "my_var = pd.Series(my_series)\n",
    "my_var"
   ]
  },
  {
   "cell_type": "code",
   "execution_count": 4,
   "id": "9c473721-f964-46eb-b534-f518d6e57e59",
   "metadata": {},
   "outputs": [],
   "source": [
    "# Print Spesific value"
   ]
  },
  {
   "cell_type": "code",
   "execution_count": 5,
   "id": "69e36256-33b9-43cc-ae01-a16e417894de",
   "metadata": {},
   "outputs": [
    {
     "data": {
      "text/plain": [
       "np.int64(12)"
      ]
     },
     "execution_count": 5,
     "metadata": {},
     "output_type": "execute_result"
    }
   ],
   "source": [
    "my_var[2]"
   ]
  },
  {
   "cell_type": "code",
   "execution_count": 6,
   "id": "54d13585-1b47-40c2-a133-b8493705d022",
   "metadata": {},
   "outputs": [],
   "source": [
    "# Lables using the index argument"
   ]
  },
  {
   "cell_type": "code",
   "execution_count": 7,
   "id": "8eaedd95-b764-413c-bb11-51f11fefbe01",
   "metadata": {},
   "outputs": [
    {
     "data": {
      "text/plain": [
       "A     5\n",
       "B     9\n",
       "C    12\n",
       "D    27\n",
       "dtype: int64"
      ]
     },
     "execution_count": 7,
     "metadata": {},
     "output_type": "execute_result"
    }
   ],
   "source": [
    "my_index = [\"A\",\"B\",\"C\",\"D\"]\n",
    "my_var2 = pd.Series(my_series, my_index)\n",
    "my_var2"
   ]
  },
  {
   "cell_type": "code",
   "execution_count": 8,
   "id": "f1ebfbc3-f61d-473b-9f3f-0ff59c4f2e92",
   "metadata": {},
   "outputs": [
    {
     "data": {
      "text/plain": [
       "np.int64(9)"
      ]
     },
     "execution_count": 8,
     "metadata": {},
     "output_type": "execute_result"
    }
   ],
   "source": [
    "my_var2[\"B\"]"
   ]
  },
  {
   "cell_type": "code",
   "execution_count": 9,
   "id": "743d9394-cad5-4b61-b419-eae947d0587b",
   "metadata": {},
   "outputs": [],
   "source": [
    "# Key Value Dictionary"
   ]
  },
  {
   "cell_type": "code",
   "execution_count": 10,
   "id": "0c1600cd-3a3a-4a9b-bbc6-e682230ec4ea",
   "metadata": {},
   "outputs": [
    {
     "data": {
      "text/plain": [
       "Tesla       12\n",
       "Mercedes    42\n",
       "BMW          3\n",
       "dtype: int64"
      ]
     },
     "execution_count": 10,
     "metadata": {},
     "output_type": "execute_result"
    }
   ],
   "source": [
    "cars = {\"Tesla\":12, \"Mercedes\":42, \"BMW\":3}\n",
    "my_var3 = pd.Series(cars)\n",
    "my_var3"
   ]
  },
  {
   "cell_type": "code",
   "execution_count": 11,
   "id": "c1c79724-424a-43e4-aba0-cea26006be47",
   "metadata": {},
   "outputs": [
    {
     "data": {
      "text/plain": [
       "np.int64(12)"
      ]
     },
     "execution_count": 11,
     "metadata": {},
     "output_type": "execute_result"
    }
   ],
   "source": [
    "my_var3[\"Tesla\"]"
   ]
  },
  {
   "cell_type": "code",
   "execution_count": null,
   "id": "255a2e3b-384d-4411-bbd6-7965f4d73d4b",
   "metadata": {},
   "outputs": [],
   "source": []
  }
 ],
 "metadata": {
  "kernelspec": {
   "display_name": "Python 3 (ipykernel)",
   "language": "python",
   "name": "python3"
  },
  "language_info": {
   "codemirror_mode": {
    "name": "ipython",
    "version": 3
   },
   "file_extension": ".py",
   "mimetype": "text/x-python",
   "name": "python",
   "nbconvert_exporter": "python",
   "pygments_lexer": "ipython3",
   "version": "3.12.7"
  }
 },
 "nbformat": 4,
 "nbformat_minor": 5
}
